{
 "cells": [
  {
   "cell_type": "markdown",
   "metadata": {},
   "source": [
    "#                     Predicción de Abandono de Clientes en Beta Bank\n"
   ]
  },
  {
   "cell_type": "markdown",
   "metadata": {},
   "source": [
    "\n",
    "Beta Bank enfrenta una pérdida continua de clientes, lo que es más costoso que retener a los actuales. El objetivo de este proyecto es desarrollar un modelo predictivo que identifique clientes en riesgo de abandonar, utilizando datos históricos sobre su comportamiento. \n",
    "\n",
    "El modelo se evaluará con la métrica F1, buscando alcanzar un mínimo de 0.59, y también se medirá la AUC-ROC para asegurar la efectividad. Con estas predicciones, el banco podrá implementar estrategias de retención específicas, mejorando la lealtad y reduciendo costos."
   ]
  },
  {
   "cell_type": "markdown",
   "metadata": {},
   "source": [
    "<span style='color:#FF69B4 '> Preparación y Descarga de Datos: Procedimiento Explicado </span>"
   ]
  },
  {
   "cell_type": "code",
   "execution_count": 1,
   "metadata": {},
   "outputs": [],
   "source": [
    "import pandas as pd\n",
    "from sklearn.model_selection import train_test_split\n",
    "from sklearn.tree import DecisionTreeClassifier\n",
    "from sklearn.metrics import classification_report, roc_auc_score, f1_score\n",
    "from sklearn.utils import resample"
   ]
  },
  {
   "cell_type": "code",
   "execution_count": 2,
   "metadata": {},
   "outputs": [],
   "source": [
    "# Cargar el archivo CSV en un DataFrame\n",
    "file_path = '/datasets/Churn.csv'\n",
    "churn_data = pd.read_csv(file_path)"
   ]
  },
  {
   "cell_type": "code",
   "execution_count": 3,
   "metadata": {},
   "outputs": [
    {
     "data": {
      "text/html": [
       "<div>\n",
       "<style scoped>\n",
       "    .dataframe tbody tr th:only-of-type {\n",
       "        vertical-align: middle;\n",
       "    }\n",
       "\n",
       "    .dataframe tbody tr th {\n",
       "        vertical-align: top;\n",
       "    }\n",
       "\n",
       "    .dataframe thead th {\n",
       "        text-align: right;\n",
       "    }\n",
       "</style>\n",
       "<table border=\"1\" class=\"dataframe\">\n",
       "  <thead>\n",
       "    <tr style=\"text-align: right;\">\n",
       "      <th></th>\n",
       "      <th>RowNumber</th>\n",
       "      <th>CustomerId</th>\n",
       "      <th>Surname</th>\n",
       "      <th>CreditScore</th>\n",
       "      <th>Geography</th>\n",
       "      <th>Gender</th>\n",
       "      <th>Age</th>\n",
       "      <th>Tenure</th>\n",
       "      <th>Balance</th>\n",
       "      <th>NumOfProducts</th>\n",
       "      <th>HasCrCard</th>\n",
       "      <th>IsActiveMember</th>\n",
       "      <th>EstimatedSalary</th>\n",
       "      <th>Exited</th>\n",
       "    </tr>\n",
       "  </thead>\n",
       "  <tbody>\n",
       "    <tr>\n",
       "      <th>0</th>\n",
       "      <td>1</td>\n",
       "      <td>15634602</td>\n",
       "      <td>Hargrave</td>\n",
       "      <td>619</td>\n",
       "      <td>France</td>\n",
       "      <td>Female</td>\n",
       "      <td>42</td>\n",
       "      <td>2.0</td>\n",
       "      <td>0.00</td>\n",
       "      <td>1</td>\n",
       "      <td>1</td>\n",
       "      <td>1</td>\n",
       "      <td>101348.88</td>\n",
       "      <td>1</td>\n",
       "    </tr>\n",
       "    <tr>\n",
       "      <th>1</th>\n",
       "      <td>2</td>\n",
       "      <td>15647311</td>\n",
       "      <td>Hill</td>\n",
       "      <td>608</td>\n",
       "      <td>Spain</td>\n",
       "      <td>Female</td>\n",
       "      <td>41</td>\n",
       "      <td>1.0</td>\n",
       "      <td>83807.86</td>\n",
       "      <td>1</td>\n",
       "      <td>0</td>\n",
       "      <td>1</td>\n",
       "      <td>112542.58</td>\n",
       "      <td>0</td>\n",
       "    </tr>\n",
       "    <tr>\n",
       "      <th>2</th>\n",
       "      <td>3</td>\n",
       "      <td>15619304</td>\n",
       "      <td>Onio</td>\n",
       "      <td>502</td>\n",
       "      <td>France</td>\n",
       "      <td>Female</td>\n",
       "      <td>42</td>\n",
       "      <td>8.0</td>\n",
       "      <td>159660.80</td>\n",
       "      <td>3</td>\n",
       "      <td>1</td>\n",
       "      <td>0</td>\n",
       "      <td>113931.57</td>\n",
       "      <td>1</td>\n",
       "    </tr>\n",
       "    <tr>\n",
       "      <th>3</th>\n",
       "      <td>4</td>\n",
       "      <td>15701354</td>\n",
       "      <td>Boni</td>\n",
       "      <td>699</td>\n",
       "      <td>France</td>\n",
       "      <td>Female</td>\n",
       "      <td>39</td>\n",
       "      <td>1.0</td>\n",
       "      <td>0.00</td>\n",
       "      <td>2</td>\n",
       "      <td>0</td>\n",
       "      <td>0</td>\n",
       "      <td>93826.63</td>\n",
       "      <td>0</td>\n",
       "    </tr>\n",
       "    <tr>\n",
       "      <th>4</th>\n",
       "      <td>5</td>\n",
       "      <td>15737888</td>\n",
       "      <td>Mitchell</td>\n",
       "      <td>850</td>\n",
       "      <td>Spain</td>\n",
       "      <td>Female</td>\n",
       "      <td>43</td>\n",
       "      <td>2.0</td>\n",
       "      <td>125510.82</td>\n",
       "      <td>1</td>\n",
       "      <td>1</td>\n",
       "      <td>1</td>\n",
       "      <td>79084.10</td>\n",
       "      <td>0</td>\n",
       "    </tr>\n",
       "  </tbody>\n",
       "</table>\n",
       "</div>"
      ],
      "text/plain": [
       "   RowNumber  CustomerId   Surname  CreditScore Geography  Gender  Age  \\\n",
       "0          1    15634602  Hargrave          619    France  Female   42   \n",
       "1          2    15647311      Hill          608     Spain  Female   41   \n",
       "2          3    15619304      Onio          502    France  Female   42   \n",
       "3          4    15701354      Boni          699    France  Female   39   \n",
       "4          5    15737888  Mitchell          850     Spain  Female   43   \n",
       "\n",
       "   Tenure    Balance  NumOfProducts  HasCrCard  IsActiveMember  \\\n",
       "0     2.0       0.00              1          1               1   \n",
       "1     1.0   83807.86              1          0               1   \n",
       "2     8.0  159660.80              3          1               0   \n",
       "3     1.0       0.00              2          0               0   \n",
       "4     2.0  125510.82              1          1               1   \n",
       "\n",
       "   EstimatedSalary  Exited  \n",
       "0        101348.88       1  \n",
       "1        112542.58       0  \n",
       "2        113931.57       1  \n",
       "3         93826.63       0  \n",
       "4         79084.10       0  "
      ]
     },
     "execution_count": 3,
     "metadata": {},
     "output_type": "execute_result"
    }
   ],
   "source": [
    "# Mostrar las primeras filas del DataFrame para una inspección inicial\n",
    "churn_data.head()"
   ]
  },
  {
   "cell_type": "markdown",
   "metadata": {},
   "source": [
    "<span style='color:#1E90FF'> Explicación: </span>\n",
    "    \n",
    "Primero, cargaremos el archivo en un DataFrame de pandas para poder trabajar con los datos. Esto nos permitirá ver su contenido y empezar a prepararlo para el análisis.\n",
    "Inspección inicial de los datos: Revisaremos la estructura del DataFrame, como las primeras filas, el tipo de datos en cada columna, y verificaremos si hay valores faltantes.\n",
    "Limpieza de los datos: Si encontramos valores nulos o datos que necesitan ser formateados o corregidos, los abordaremos para asegurar que el conjunto de datos esté listo para el análisis."
   ]
  },
  {
   "cell_type": "code",
   "execution_count": 4,
   "metadata": {},
   "outputs": [
    {
     "data": {
      "text/html": [
       "<div>\n",
       "<style scoped>\n",
       "    .dataframe tbody tr th:only-of-type {\n",
       "        vertical-align: middle;\n",
       "    }\n",
       "\n",
       "    .dataframe tbody tr th {\n",
       "        vertical-align: top;\n",
       "    }\n",
       "\n",
       "    .dataframe thead th {\n",
       "        text-align: right;\n",
       "    }\n",
       "</style>\n",
       "<table border=\"1\" class=\"dataframe\">\n",
       "  <thead>\n",
       "    <tr style=\"text-align: right;\">\n",
       "      <th></th>\n",
       "      <th>CreditScore</th>\n",
       "      <th>Gender</th>\n",
       "      <th>Age</th>\n",
       "      <th>Tenure</th>\n",
       "      <th>Balance</th>\n",
       "      <th>NumOfProducts</th>\n",
       "      <th>HasCrCard</th>\n",
       "      <th>IsActiveMember</th>\n",
       "      <th>EstimatedSalary</th>\n",
       "      <th>Exited</th>\n",
       "      <th>Geography_Germany</th>\n",
       "      <th>Geography_Spain</th>\n",
       "    </tr>\n",
       "  </thead>\n",
       "  <tbody>\n",
       "    <tr>\n",
       "      <th>0</th>\n",
       "      <td>619</td>\n",
       "      <td>0</td>\n",
       "      <td>42</td>\n",
       "      <td>2</td>\n",
       "      <td>0.0</td>\n",
       "      <td>1</td>\n",
       "      <td>1</td>\n",
       "      <td>1</td>\n",
       "      <td>101348.88</td>\n",
       "      <td>1</td>\n",
       "      <td>0</td>\n",
       "      <td>0</td>\n",
       "    </tr>\n",
       "    <tr>\n",
       "      <th>1</th>\n",
       "      <td>608</td>\n",
       "      <td>0</td>\n",
       "      <td>41</td>\n",
       "      <td>1</td>\n",
       "      <td>83807.86</td>\n",
       "      <td>1</td>\n",
       "      <td>0</td>\n",
       "      <td>1</td>\n",
       "      <td>112542.58</td>\n",
       "      <td>0</td>\n",
       "      <td>0</td>\n",
       "      <td>1</td>\n",
       "    </tr>\n",
       "    <tr>\n",
       "      <th>2</th>\n",
       "      <td>502</td>\n",
       "      <td>0</td>\n",
       "      <td>42</td>\n",
       "      <td>8</td>\n",
       "      <td>159660.8</td>\n",
       "      <td>3</td>\n",
       "      <td>1</td>\n",
       "      <td>0</td>\n",
       "      <td>113931.57</td>\n",
       "      <td>1</td>\n",
       "      <td>0</td>\n",
       "      <td>0</td>\n",
       "    </tr>\n",
       "    <tr>\n",
       "      <th>3</th>\n",
       "      <td>699</td>\n",
       "      <td>0</td>\n",
       "      <td>39</td>\n",
       "      <td>1</td>\n",
       "      <td>0.0</td>\n",
       "      <td>2</td>\n",
       "      <td>0</td>\n",
       "      <td>0</td>\n",
       "      <td>93826.63</td>\n",
       "      <td>0</td>\n",
       "      <td>0</td>\n",
       "      <td>0</td>\n",
       "    </tr>\n",
       "    <tr>\n",
       "      <th>4</th>\n",
       "      <td>850</td>\n",
       "      <td>0</td>\n",
       "      <td>43</td>\n",
       "      <td>2</td>\n",
       "      <td>125510.82</td>\n",
       "      <td>1</td>\n",
       "      <td>1</td>\n",
       "      <td>1</td>\n",
       "      <td>79084.1</td>\n",
       "      <td>0</td>\n",
       "      <td>0</td>\n",
       "      <td>1</td>\n",
       "    </tr>\n",
       "  </tbody>\n",
       "</table>\n",
       "</div>"
      ],
      "text/plain": [
       "   CreditScore  Gender  Age  Tenure    Balance  NumOfProducts  HasCrCard  \\\n",
       "0          619       0   42       2        0.0              1          1   \n",
       "1          608       0   41       1   83807.86              1          0   \n",
       "2          502       0   42       8   159660.8              3          1   \n",
       "3          699       0   39       1        0.0              2          0   \n",
       "4          850       0   43       2  125510.82              1          1   \n",
       "\n",
       "   IsActiveMember  EstimatedSalary  Exited  Geography_Germany  Geography_Spain  \n",
       "0               1        101348.88       1                  0                0  \n",
       "1               1        112542.58       0                  0                1  \n",
       "2               0        113931.57       1                  0                0  \n",
       "3               0         93826.63       0                  0                0  \n",
       "4               1          79084.1       0                  0                1  "
      ]
     },
     "execution_count": 4,
     "metadata": {},
     "output_type": "execute_result"
    }
   ],
   "source": [
    "# Paso 1: Eliminar columnas innecesarias\n",
    "churn_data_cleaned = churn_data.drop(columns=['RowNumber', 'CustomerId', 'Surname'])\n",
    "\n",
    "# Paso 2: Verificar y manejar valores nulos\n",
    "churn_data_cleaned['Tenure'] = churn_data_cleaned['Tenure'].fillna(churn_data_cleaned['Tenure'].median())\n",
    "\n",
    "# Paso 3: Convertir tipos de datos si es necesario\n",
    "churn_data_cleaned = churn_data_cleaned.convert_dtypes()\n",
    "\n",
    "# Paso 4: Codificar variables categóricas\n",
    "# Convertir 'Gender' a valores numéricos (Female: 0, Male: 1)\n",
    "churn_data_cleaned['Gender'] = churn_data_cleaned['Gender'].map({'Female': 0, 'Male': 1})\n",
    "\n",
    "# Convertir 'Geography' usando variables dummy (one-hot encoding)\n",
    "churn_data_cleaned = pd.get_dummies(churn_data_cleaned, columns=['Geography'], drop_first=True)\n",
    "\n",
    "# Mostrar las primeras filas del DataFrame limpio\n",
    "churn_data_cleaned.head()"
   ]
  },
  {
   "cell_type": "markdown",
   "metadata": {},
   "source": [
    "<span style='color:#1E90FF '> Explicación: </span>\n",
    "\n",
    "Eliminamos las columnas RowNumber, CustomerId y Surname porque no son relevantes para el análisis. Estas columnas no aportan información útil para predecir si un cliente va a abandonar el servicio.\n",
    "Llenamos valores nulos en la columna Tenure con la mediana de los datos. Esto es para evitar problemas en el análisis posterior debido a valores faltantes.\n",
    "Convertimos los tipos de datos si es necesario. Esto asegura que las operaciones posteriores funcionen sin errores.\n",
    "Codificamos las variables categóricas (Gender y Geography). Gender se convierte a valores numéricos, y Geography se transforma en variables dummy (variables binarias), eliminando una de las categorías para evitar la multicolinealidad."
   ]
  },
  {
   "cell_type": "markdown",
   "metadata": {},
   "source": [
    "<span style='color:#FF69B4 '> Análisis del Equilibrio de Clases y Entrenamiento Inicial del Modelo </span>"
   ]
  },
  {
   "cell_type": "code",
   "execution_count": 5,
   "metadata": {},
   "outputs": [
    {
     "name": "stdout",
     "output_type": "stream",
     "text": [
      "Distribución de clases:\n",
      "0    0.7963\n",
      "1    0.2037\n",
      "Name: Exited, dtype: Float64\n"
     ]
    }
   ],
   "source": [
    "# Revisar el equilibrio de clases en la variable objetivo\n",
    "class_counts = churn_data_cleaned['Exited'].value_counts(normalize=True)\n",
    "print(\"Distribución de clases:\")\n",
    "print(class_counts)"
   ]
  },
  {
   "cell_type": "markdown",
   "metadata": {},
   "source": [
    "<span style='color:#1E90FF '> Explicación: </span>\n",
    "\n",
    "La función value_counts(normalize=True) nos proporciona la proporción de clientes que han abandonado (valor 1) y los que no (valor 0). Esto nos permitirá ver si hay un desequilibrio significativo en las clases."
   ]
  },
  {
   "cell_type": "code",
   "execution_count": 6,
   "metadata": {},
   "outputs": [
    {
     "name": "stdout",
     "output_type": "stream",
     "text": [
      "F1 Score: 0.48\n",
      "AUC-ROC: 0.68\n",
      "\n",
      "Informe de clasificación:\n",
      "              precision    recall  f1-score   support\n",
      "\n",
      "           0       0.88      0.85      0.86      1607\n",
      "           1       0.45      0.51      0.48       393\n",
      "\n",
      "    accuracy                           0.78      2000\n",
      "   macro avg       0.67      0.68      0.67      2000\n",
      "weighted avg       0.79      0.78      0.79      2000\n",
      "\n"
     ]
    }
   ],
   "source": [
    "# Separar las características (X) y la variable objetivo (y)\n",
    "X = churn_data_cleaned.drop(columns=['Exited'])\n",
    "y = churn_data_cleaned['Exited'].astype(int)  # Convertir la variable objetivo a tipo entero\n",
    "\n",
    "# Dividir el conjunto de datos en entrenamiento y prueba (80% entrenamiento, 20% prueba)\n",
    "X_train, X_test, y_train, y_test = train_test_split(X, y, test_size=0.2, random_state=42)\n",
    "\n",
    "# Crear una instancia del clasificador de árbol de decisión\n",
    "model = DecisionTreeClassifier(random_state=42)\n",
    "\n",
    "# Entrenar el modelo con los datos de entrenamiento\n",
    "model.fit(X_train, y_train)\n",
    "\n",
    "# Predecir los valores para el conjunto de prueba\n",
    "y_pred = model.predict(X_test)\n",
    "\n",
    "# Calcular la métrica F1 y AUC-ROC\n",
    "f1 = f1_score(y_test, y_pred)\n",
    "auc_roc = roc_auc_score(y_test, y_pred)\n",
    "\n",
    "# Mostrar los resultados\n",
    "print(f\"F1 Score: {f1:.2f}\")\n",
    "print(f\"AUC-ROC: {auc_roc:.2f}\")\n",
    "\n",
    "# Mostrar un informe de clasificación\n",
    "print(\"\\nInforme de clasificación:\")\n",
    "print(classification_report(y_test, y_pred))"
   ]
  },
  {
   "cell_type": "markdown",
   "metadata": {},
   "source": [
    "<span style='color:#1E90FF '> Explicación: </span>\n",
    "\n",
    "Análisis del equilibrio de clases: Detectamos un desequilibrio en los datos, con más clientes que no abandonan que los que sí lo hacen.\n",
    "División de datos: Separamos los datos en conjuntos de entrenamiento (80%) y prueba (20%) para evaluar el modelo.\n",
    "Entrenamiento del modelo: Utilizamos un árbol de decisión sin técnicas para manejar el desequilibrio. El modelo se entrenó con los datos de entrenamiento y luego se probaron las predicciones.\n",
    "Evaluación del rendimiento: Las métricas F1 (0.48) y AUC-ROC (0.68) mostraron que el modelo tiene dificultades para predecir correctamente los casos de abandono, siendo mucho mejor en la clase mayoritaria (clientes que no abandonan)."
   ]
  },
  {
   "cell_type": "markdown",
   "metadata": {},
   "source": [
    "<span style='color:#FF69B4 '> Mejora del Modelo de Clasificación y realización de prueba final  </span>"
   ]
  },
  {
   "cell_type": "markdown",
   "metadata": {},
   "source": [
    "<span style='color:#2ca02c '> Pasos: </span>\n",
    "\n",
    "<span style='color:#ff7f0e '> Paso 1: </span> Corregir el desequilibrio de clases utilizando dos enfoques\n",
    "Sobremuestreo de la clase minoritaria: Aumentar la cantidad de ejemplos en la clase minoritaria (clientes que abandonan) mediante la duplicación o generación de ejemplos sintéticos.\n",
    "Ponderación de clases en el modelo: Ajustar los pesos del modelo para que las clases minoritarias tengan más impacto en el entrenamiento.\n",
    "\n",
    "<span style='color:#ff7f0e '> Paso 2: </span> Entrenar y validar diferentes modelos utilizando los enfoques anteriores\n",
    "Utilizaremos train_test_split para dividir los datos en conjuntos de entrenamiento y validación.\n",
    "Entrenaremos modelos con los dos enfoques de balanceo y evaluaremos su rendimiento en el conjunto de validación.\n",
    "\n",
    "<span style='color:#ff7f0e '> Paso 3: </span> Realizar la prueba final en el conjunto de prueba con el mejor modelo encontrado"
   ]
  },
  {
   "cell_type": "markdown",
   "metadata": {},
   "source": [
    "<span style='color:#663399 '> Paso 1: </span>"
   ]
  },
  {
   "cell_type": "code",
   "execution_count": 7,
   "metadata": {},
   "outputs": [],
   "source": [
    "# Combinar X_train e y_train para aplicar el sobremuestreo\n",
    "train_data = X_train.copy()\n",
    "train_data['Exited'] = y_train\n",
    "\n",
    "# Separar la clase mayoritaria y la minoritaria\n",
    "majority = train_data[train_data['Exited'] == 0]\n",
    "minority = train_data[train_data['Exited'] == 1]\n",
    "\n",
    "# Sobremuestrear la clase minoritaria\n",
    "minority_oversampled = resample(minority, \n",
    "                                replace=True,     # Sobremuestrear con reemplazo\n",
    "                                n_samples=len(majority), # Número de muestras para igualar la clase mayoritaria\n",
    "                                random_state=42)\n",
    "\n",
    "# Combinar las clases mayoritaria y minoritaria sobremuestreadas\n",
    "train_data_balanced = pd.concat([majority, minority_oversampled])\n",
    "\n",
    "# Separar de nuevo X_train_balanced e y_train_balanced\n",
    "X_train_balanced = train_data_balanced.drop(columns=['Exited'])\n",
    "y_train_balanced = train_data_balanced['Exited']"
   ]
  },
  {
   "cell_type": "code",
   "execution_count": 8,
   "metadata": {},
   "outputs": [
    {
     "name": "stdout",
     "output_type": "stream",
     "text": [
      "DecisionTreeClassifier(class_weight='balanced', random_state=42)\n"
     ]
    }
   ],
   "source": [
    "# Configurar el clasificador con la opción 'class_weight' para manejar el desequilibrio\n",
    "model_weighted = DecisionTreeClassifier(random_state=42, class_weight='balanced')\n",
    "\n",
    "print(model_weighted)"
   ]
  },
  {
   "cell_type": "markdown",
   "metadata": {},
   "source": [
    "<span style='color:#663399 '> Paso 2: </span>"
   ]
  },
  {
   "cell_type": "code",
   "execution_count": 9,
   "metadata": {},
   "outputs": [
    {
     "name": "stdout",
     "output_type": "stream",
     "text": [
      "Modelo Sobremuestreo - F1 Score: 0.45, AUC-ROC: 0.66\n"
     ]
    }
   ],
   "source": [
    "# Entrenar el modelo con los datos sobremuestreados\n",
    "model_oversampled = DecisionTreeClassifier(random_state=42)\n",
    "model_oversampled.fit(X_train_balanced, y_train_balanced)\n",
    "\n",
    "# Predecir en el conjunto de validación\n",
    "y_pred_oversampled = model_oversampled.predict(X_test)\n",
    "\n",
    "# Evaluar el rendimiento\n",
    "f1_oversampled = f1_score(y_test, y_pred_oversampled)\n",
    "auc_roc_oversampled = roc_auc_score(y_test, y_pred_oversampled)\n",
    "\n",
    "print(f\"Modelo Sobremuestreo - F1 Score: {f1_oversampled:.2f}, AUC-ROC: {auc_roc_oversampled:.2f}\")"
   ]
  },
  {
   "cell_type": "code",
   "execution_count": 10,
   "metadata": {},
   "outputs": [
    {
     "name": "stdout",
     "output_type": "stream",
     "text": [
      "Modelo Ponderación - F1 Score: 0.48, AUC-ROC: 0.68\n"
     ]
    }
   ],
   "source": [
    "# Entrenar el modelo con la ponderación de clases\n",
    "model_weighted.fit(X_train, y_train)\n",
    "\n",
    "# Predecir en el conjunto de validación\n",
    "y_pred_weighted = model_weighted.predict(X_test)\n",
    "\n",
    "# Evaluar el rendimiento\n",
    "f1_weighted = f1_score(y_test, y_pred_weighted)\n",
    "auc_roc_weighted = roc_auc_score(y_test, y_pred_weighted)\n",
    "\n",
    "print(f\"Modelo Ponderación - F1 Score: {f1_weighted:.2f}, AUC-ROC: {auc_roc_weighted:.2f}\")"
   ]
  },
  {
   "cell_type": "markdown",
   "metadata": {},
   "source": [
    "<span style='color:#1E90FF '> Explicación: </span>\n",
    "\n",
    "Los resultados muestran que la técnica de ponderación de clases tuvo un mejor desempeño en comparación con el sobremuestreo.\n",
    "El modelo con ponderación de clases logró un F1 Score y AUC-ROC ligeramente mejores que el modelo con sobremuestreo. Esto sugiere que ajustar los pesos para las clases puede ser más efectivo en este caso para mejorar el rendimiento del modelo en la detección de clientes que abandonan."
   ]
  },
  {
   "cell_type": "markdown",
   "metadata": {},
   "source": [
    "<span style='color:#663399 '> Paso 3: </span>"
   ]
  },
  {
   "cell_type": "code",
   "execution_count": 11,
   "metadata": {},
   "outputs": [
    {
     "name": "stdout",
     "output_type": "stream",
     "text": [
      "Prueba Final - F1 Score: 0.48\n",
      "Prueba Final - AUC-ROC: 0.68\n",
      "\n",
      "Informe de clasificación (Prueba Final):\n",
      "              precision    recall  f1-score   support\n",
      "\n",
      "           0       0.87      0.88      0.88      1607\n",
      "           1       0.49      0.48      0.48       393\n",
      "\n",
      "    accuracy                           0.80      2000\n",
      "   macro avg       0.68      0.68      0.68      2000\n",
      "weighted avg       0.80      0.80      0.80      2000\n",
      "\n"
     ]
    }
   ],
   "source": [
    "# Asegurarse de que el modelo esté entrenado con los datos de entrenamiento\n",
    "model_weighted.fit(X_train, y_train)\n",
    "\n",
    "# Predecir los valores para el conjunto de prueba utilizando el modelo con ponderación\n",
    "y_pred_final = model_weighted.predict(X_test)\n",
    "\n",
    "# Calcular las métricas para la prueba final\n",
    "f1_final = f1_score(y_test, y_pred_final)\n",
    "auc_roc_final = roc_auc_score(y_test, y_pred_final)\n",
    "\n",
    "# Mostrar los resultados\n",
    "print(f\"Prueba Final - F1 Score: {f1_final:.2f}\")\n",
    "print(f\"Prueba Final - AUC-ROC: {auc_roc_final:.2f}\")\n",
    "\n",
    "# Informe de clasificación final\n",
    "print(\"\\nInforme de clasificación (Prueba Final):\")\n",
    "print(classification_report(y_test, y_pred_final))"
   ]
  },
  {
   "cell_type": "markdown",
   "metadata": {},
   "source": [
    "<span style='color:#1E90FF '> Explicación: </span>\n",
    "\n",
    "Los resultados de la prueba final muestran que el modelo tiene un buen rendimiento para la clase mayoritaria (clientes que no abandonan) con un F1-score de 0.88, pero sigue teniendo dificultades para predecir correctamente los casos de abandono, con un F1-score de 0.48 para la clase minoritaria.\n",
    "\n",
    "El AUC-ROC de 0.68 indica una capacidad moderada para distinguir entre las clases. Aunque la técnica de ponderación de clases mejoró el modelo, hay margen para seguir mejorando. Se recomienda explorar algoritmos más complejos o ajustar los hiperparámetros para optimizar la detección de los clientes que podrían abandonar."
   ]
  },
  {
   "cell_type": "markdown",
   "metadata": {},
   "source": [
    "# <span style='color:#000080 '> Conclusión </span>"
   ]
  },
  {
   "cell_type": "markdown",
   "metadata": {},
   "source": [
    "Para abordar el problema de abandono de clientes en Beta Bank, preparamos los datos eliminando columnas irrelevantes y aplicando `One-Hot Encoding` a las variables categóricas. Luego, se investigó el desequilibrio de clases, encontrando que solo el 20% de los clientes había abandonado. Entrenamos un modelo inicial sin corregir el desequilibrio, lo cual confirmó la necesidad de técnicas específicas para mejorar la predicción de la clase minoritaria.\n",
    "\n",
    "Utilizamos dos enfoques para manejar el desequilibrio: **sobremuestreo** y **ponderación de clases**. Los datos se dividieron adecuadamente para entrenamiento, validación y prueba. El modelo con ponderación de clases mostró un mejor desempeño, con un **F1-score final de 0.48** y un **AUC-ROC de 0.68**, lo que indica una capacidad moderada para distinguir entre las clases.\n",
    "\n",
    "El proyecto se completó manteniendo una estructura de código clara y documentada, pero aún hay margen para mejorar el rendimiento del modelo mediante algoritmos más avanzados o ajustes adicionales."
   ]
  }
 ],
 "metadata": {
  "ExecuteTimeLog": [
   {
    "duration": 9,
    "start_time": "2024-10-10T18:22:52.595Z"
   },
   {
    "duration": 295,
    "start_time": "2024-10-10T18:30:54.004Z"
   },
   {
    "duration": 553,
    "start_time": "2024-10-10T18:31:19.131Z"
   },
   {
    "duration": 59,
    "start_time": "2024-10-10T18:32:00.372Z"
   },
   {
    "duration": 28,
    "start_time": "2024-10-10T18:32:14.098Z"
   },
   {
    "duration": 271,
    "start_time": "2024-10-10T18:32:41.720Z"
   },
   {
    "duration": 17,
    "start_time": "2024-10-10T18:32:41.993Z"
   },
   {
    "duration": 14,
    "start_time": "2024-10-10T18:33:03.515Z"
   },
   {
    "duration": 5,
    "start_time": "2024-10-10T18:36:55.859Z"
   },
   {
    "duration": 5,
    "start_time": "2024-10-10T18:37:02.333Z"
   },
   {
    "duration": 4,
    "start_time": "2024-10-10T18:37:29.061Z"
   },
   {
    "duration": 24,
    "start_time": "2024-10-10T18:40:09.850Z"
   },
   {
    "duration": 282,
    "start_time": "2024-10-10T18:40:20.418Z"
   },
   {
    "duration": 15,
    "start_time": "2024-10-10T18:40:20.702Z"
   },
   {
    "duration": 14,
    "start_time": "2024-10-10T18:40:20.719Z"
   },
   {
    "duration": 24,
    "start_time": "2024-10-10T18:40:20.743Z"
   },
   {
    "duration": 7,
    "start_time": "2024-10-10T18:48:10.674Z"
   },
   {
    "duration": 3,
    "start_time": "2024-10-10T18:49:29.186Z"
   },
   {
    "duration": 476,
    "start_time": "2024-10-10T18:49:32.294Z"
   },
   {
    "duration": 316,
    "start_time": "2024-10-10T18:53:00.569Z"
   },
   {
    "duration": 50,
    "start_time": "2024-10-10T18:55:42.132Z"
   },
   {
    "duration": 5,
    "start_time": "2024-10-10T18:58:00.113Z"
   },
   {
    "duration": 7,
    "start_time": "2024-10-10T18:59:10.032Z"
   },
   {
    "duration": 49,
    "start_time": "2024-10-10T19:00:38.386Z"
   },
   {
    "duration": 3,
    "start_time": "2024-10-10T19:06:26.165Z"
   },
   {
    "duration": 69,
    "start_time": "2024-10-10T19:06:47.461Z"
   },
   {
    "duration": 17,
    "start_time": "2024-10-10T19:07:58.507Z"
   },
   {
    "duration": 256,
    "start_time": "2024-10-10T19:09:48.386Z"
   },
   {
    "duration": 3,
    "start_time": "2024-10-10T19:12:18.643Z"
   },
   {
    "duration": 59,
    "start_time": "2024-10-10T19:13:13.077Z"
   },
   {
    "duration": 6,
    "start_time": "2024-10-10T19:15:55.447Z"
   },
   {
    "duration": 20,
    "start_time": "2024-10-10T19:20:37.177Z"
   },
   {
    "duration": 18,
    "start_time": "2024-10-10T19:20:41.950Z"
   },
   {
    "duration": 19,
    "start_time": "2024-10-10T19:20:52.358Z"
   },
   {
    "duration": 6,
    "start_time": "2024-10-10T19:21:18.889Z"
   },
   {
    "duration": 106,
    "start_time": "2024-10-10T19:24:24.197Z"
   },
   {
    "duration": 386,
    "start_time": "2024-10-10T19:27:31.357Z"
   },
   {
    "duration": 24,
    "start_time": "2024-10-10T19:38:01.038Z"
   },
   {
    "duration": 6,
    "start_time": "2024-10-10T19:38:26.968Z"
   },
   {
    "duration": 47,
    "start_time": "2024-10-10T19:39:05.672Z"
   },
   {
    "duration": 6,
    "start_time": "2024-10-10T19:51:37.153Z"
   },
   {
    "duration": 9,
    "start_time": "2024-10-10T19:52:11.965Z"
   },
   {
    "duration": 44,
    "start_time": "2024-10-10T19:53:10.141Z"
   },
   {
    "duration": 50,
    "start_time": "2024-10-10T19:56:21.300Z"
   },
   {
    "duration": 2,
    "start_time": "2024-10-10T19:59:28.764Z"
   },
   {
    "duration": 3,
    "start_time": "2024-10-10T19:59:31.666Z"
   },
   {
    "duration": 60,
    "start_time": "2024-10-10T20:00:10.273Z"
   },
   {
    "duration": 23,
    "start_time": "2024-10-10T20:12:41.615Z"
   },
   {
    "duration": 3,
    "start_time": "2024-10-10T20:13:09.108Z"
   },
   {
    "duration": 54,
    "start_time": "2024-10-10T20:19:16.284Z"
   },
   {
    "duration": 43,
    "start_time": "2024-10-10T20:19:34.886Z"
   },
   {
    "duration": 3,
    "start_time": "2024-10-10T20:28:28.414Z"
   },
   {
    "duration": 17,
    "start_time": "2024-10-10T20:28:41.568Z"
   },
   {
    "duration": 4,
    "start_time": "2024-10-10T20:28:50.843Z"
   },
   {
    "duration": 36,
    "start_time": "2024-10-10T20:31:48.723Z"
   },
   {
    "duration": 46,
    "start_time": "2024-10-10T20:33:19.623Z"
   },
   {
    "duration": 831,
    "start_time": "2024-10-11T05:38:37.569Z"
   },
   {
    "duration": 28,
    "start_time": "2024-10-11T05:38:38.402Z"
   },
   {
    "duration": 225,
    "start_time": "2024-10-11T05:38:38.432Z"
   },
   {
    "duration": 0,
    "start_time": "2024-10-11T05:38:38.659Z"
   },
   {
    "duration": 0,
    "start_time": "2024-10-11T05:38:38.660Z"
   },
   {
    "duration": 0,
    "start_time": "2024-10-11T05:38:38.661Z"
   },
   {
    "duration": 0,
    "start_time": "2024-10-11T05:38:38.662Z"
   },
   {
    "duration": 0,
    "start_time": "2024-10-11T05:38:38.663Z"
   },
   {
    "duration": 0,
    "start_time": "2024-10-11T05:38:38.664Z"
   },
   {
    "duration": 0,
    "start_time": "2024-10-11T05:38:38.665Z"
   },
   {
    "duration": 0,
    "start_time": "2024-10-11T05:38:38.667Z"
   },
   {
    "duration": 0,
    "start_time": "2024-10-11T05:38:38.668Z"
   },
   {
    "duration": 0,
    "start_time": "2024-10-11T05:38:38.669Z"
   },
   {
    "duration": 0,
    "start_time": "2024-10-11T05:38:38.671Z"
   },
   {
    "duration": 14,
    "start_time": "2024-10-11T05:39:39.509Z"
   },
   {
    "duration": 15,
    "start_time": "2024-10-11T05:39:40.954Z"
   },
   {
    "duration": 24,
    "start_time": "2024-10-11T05:39:41.846Z"
   },
   {
    "duration": 5,
    "start_time": "2024-10-11T05:39:43.647Z"
   },
   {
    "duration": 13,
    "start_time": "2024-10-11T05:39:44.549Z"
   },
   {
    "duration": 53,
    "start_time": "2024-10-11T05:39:45.020Z"
   },
   {
    "duration": 18,
    "start_time": "2024-10-11T05:39:47.405Z"
   },
   {
    "duration": 4,
    "start_time": "2024-10-11T05:39:48.011Z"
   },
   {
    "duration": 55,
    "start_time": "2024-10-11T05:39:49.091Z"
   },
   {
    "duration": 44,
    "start_time": "2024-10-11T05:39:49.669Z"
   },
   {
    "duration": 46,
    "start_time": "2024-10-11T05:39:50.981Z"
   },
   {
    "duration": 168,
    "start_time": "2024-10-15T15:29:48.905Z"
   },
   {
    "duration": 876,
    "start_time": "2024-10-15T15:30:29.347Z"
   },
   {
    "duration": 22,
    "start_time": "2024-10-15T15:30:30.226Z"
   },
   {
    "duration": 83,
    "start_time": "2024-10-15T15:31:17.803Z"
   },
   {
    "duration": 4,
    "start_time": "2024-10-15T15:34:18.473Z"
   },
   {
    "duration": 18,
    "start_time": "2024-10-15T15:34:21.520Z"
   },
   {
    "duration": 16,
    "start_time": "2024-10-15T15:34:24.658Z"
   },
   {
    "duration": 22,
    "start_time": "2024-10-15T15:34:28.254Z"
   },
   {
    "duration": 789,
    "start_time": "2024-10-15T15:40:06.509Z"
   },
   {
    "duration": 16,
    "start_time": "2024-10-15T15:40:07.301Z"
   },
   {
    "duration": 14,
    "start_time": "2024-10-15T15:40:07.318Z"
   },
   {
    "duration": 21,
    "start_time": "2024-10-15T15:40:07.334Z"
   },
   {
    "duration": 7,
    "start_time": "2024-10-15T15:40:07.357Z"
   },
   {
    "duration": 51,
    "start_time": "2024-10-15T15:40:07.386Z"
   },
   {
    "duration": 14,
    "start_time": "2024-10-15T15:40:07.439Z"
   },
   {
    "duration": 4,
    "start_time": "2024-10-15T15:40:07.454Z"
   },
   {
    "duration": 72,
    "start_time": "2024-10-15T15:40:07.460Z"
   },
   {
    "duration": 42,
    "start_time": "2024-10-15T15:40:07.535Z"
   },
   {
    "duration": 44,
    "start_time": "2024-10-15T15:40:07.589Z"
   },
   {
    "duration": 743,
    "start_time": "2024-10-16T02:48:25.101Z"
   },
   {
    "duration": 20,
    "start_time": "2024-10-16T02:48:25.847Z"
   },
   {
    "duration": 13,
    "start_time": "2024-10-16T02:48:25.868Z"
   },
   {
    "duration": 26,
    "start_time": "2024-10-16T02:48:25.885Z"
   },
   {
    "duration": 5,
    "start_time": "2024-10-16T02:48:25.914Z"
   },
   {
    "duration": 52,
    "start_time": "2024-10-16T02:48:25.921Z"
   },
   {
    "duration": 35,
    "start_time": "2024-10-16T02:48:25.975Z"
   },
   {
    "duration": 4,
    "start_time": "2024-10-16T02:48:26.011Z"
   },
   {
    "duration": 53,
    "start_time": "2024-10-16T02:48:26.017Z"
   },
   {
    "duration": 54,
    "start_time": "2024-10-16T02:48:26.071Z"
   },
   {
    "duration": 45,
    "start_time": "2024-10-16T02:48:26.127Z"
   }
  ],
  "kernelspec": {
   "display_name": "Python 3 (ipykernel)",
   "language": "python",
   "name": "python3"
  },
  "language_info": {
   "codemirror_mode": {
    "name": "ipython",
    "version": 3
   },
   "file_extension": ".py",
   "mimetype": "text/x-python",
   "name": "python",
   "nbconvert_exporter": "python",
   "pygments_lexer": "ipython3",
   "version": "3.9.19"
  },
  "toc": {
   "base_numbering": 1,
   "nav_menu": {},
   "number_sections": true,
   "sideBar": true,
   "skip_h1_title": true,
   "title_cell": "Table of Contents",
   "title_sidebar": "Contents",
   "toc_cell": false,
   "toc_position": {},
   "toc_section_display": true,
   "toc_window_display": false
  }
 },
 "nbformat": 4,
 "nbformat_minor": 2
}
